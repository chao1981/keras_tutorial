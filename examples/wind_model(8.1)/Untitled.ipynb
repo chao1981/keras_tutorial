{
 "cells": [
  {
   "cell_type": "code",
   "execution_count": 14,
   "metadata": {},
   "outputs": [
    {
     "name": "stdout",
     "output_type": "stream",
     "text": [
      "(34136, 3)\n",
      "(52368, 25)\n"
     ]
    }
   ],
   "source": [
    "import scipy.io\n",
    "import numpy as np\n",
    "import csv\n",
    "\n",
    "path='./data/chang/1'\n",
    "# data = scipy.io.loadmat(path+\".csv\")  # 读取mat文件\n",
    "# train_y=data[\"an\"]\n",
    "reader=csv.reader(open(path+\".csv\"))\n",
    "train_y=[]\n",
    "for i in reader:\n",
    "    train_y.append([float(j) for j in i])\n",
    "\n",
    "train_y=np.array(train_y)\n",
    "print(train_y.shape)\n",
    "\n",
    "path='./data/NWP/CN0088'\n",
    "# data = scipy.io.loadmat(path+\".mat\")  # 读取mat文件\n",
    "# train_x=data[\"an\"][:,:25]\n",
    "reader=csv.reader(open(path+\".csv\"))\n",
    "train_x=[]\n",
    "for i in reader:\n",
    "    train_x.append([float(j) for j in i])\n",
    "\n",
    "train_x=np.array(train_x)\n",
    "train_x=train_x[:,:25]\n",
    "print(train_x.shape)\n"
   ]
  },
  {
   "cell_type": "code",
   "execution_count": 15,
   "metadata": {},
   "outputs": [
    {
     "name": "stdout",
     "output_type": "stream",
     "text": [
      "(34088, 25)\n",
      "(34088, 3)\n"
     ]
    }
   ],
   "source": [
    "index=np.array([l for l in train_x[:,0] if  l in train_y[:,0]])\n",
    "trainx=[]\n",
    "for j in range(len(train_x)):\n",
    "    if train_x[j,0] in index:\n",
    "            trainx.append(train_x[j,:])\n",
    "\n",
    "trainy=[]\n",
    "for j in range(len(train_y)):\n",
    "    if train_y[j,0] in index:\n",
    "        \n",
    "        if len(trainy)> 0:\n",
    "            if train_y[j,0] not in trainy[:][0]:\n",
    "                trainy.append(train_y[j,:])\n",
    "        else:\n",
    "            trainy.append(train_y[j,:])\n",
    "\n",
    "train_y=np.array(trainy)\n",
    "train_x=np.array(trainx)\n",
    "print(train_x.shape)\n",
    "print(train_y.shape)"
   ]
  },
  {
   "cell_type": "code",
   "execution_count": 16,
   "metadata": {},
   "outputs": [
    {
     "name": "stdout",
     "output_type": "stream",
     "text": [
      "[  7.37060990e+05   2.79360000e+02   1.00000000e-02   3.34000000e+00\n",
      "   2.37000000e+00   2.39000000e+00   2.25000000e+00   1.65000000e+00\n",
      "   1.65000000e+00   3.96000000e+00   4.63000000e+00   3.34000000e+00\n",
      "   3.34000000e+00   1.02892000e+03   0.00000000e+00  -3.08300000e+01\n",
      "  -1.13700000e+01   1.15000000e+00  -9.95300000e+01   1.02709000e+03\n",
      "   0.00000000e+00   0.00000000e+00   0.00000000e+00   2.77920000e+02\n",
      "   6.79400000e+01]\n",
      "[  7.37060990e+05   8.11000000e+00   1.35300000e+01]\n"
     ]
    }
   ],
   "source": [
    "print(train_x[-1,:])\n",
    "print(train_y[-1,:])"
   ]
  },
  {
   "cell_type": "code",
   "execution_count": 17,
   "metadata": {},
   "outputs": [],
   "source": [
    "# matrix_load = np.array(train_x[:,2:])\n",
    "# shifted_value = matrix_load.mean()\n",
    "# print(\"shifted_value:\",shifted_value)\n",
    "# train_x = matrix_load-shifted_value\n",
    "# print (\"train_x Data  shape: \", train_x.shape)\n",
    "# print(train_x[0][:10])\n",
    "\n",
    "# matrix_load = np.array(train_y[:,1:])\n",
    "# shifted_value = matrix_load.mean()\n",
    "# print(\"shifted_value:\",shifted_value)\n",
    "# train_y = matrix_load-shifted_value\n",
    "# print (\"train_y Data  shape: \", train_y.shape)\n",
    "# print(train_x[0][:])\n",
    "from sklearn import preprocessing\n",
    "train_x = preprocessing.scale(train_x[:,2:])\n",
    "train_y= preprocessing.scale(train_y[:,1:])"
   ]
  },
  {
   "cell_type": "code",
   "execution_count": 18,
   "metadata": {},
   "outputs": [],
   "source": [
    "from sklearn.model_selection import train_test_split\n",
    "x_train,x_test,y_train,y_test = train_test_split(train_x,train_y,test_size=0.3,random_state=0)\n"
   ]
  },
  {
   "cell_type": "code",
   "execution_count": 19,
   "metadata": {},
   "outputs": [
    {
     "name": "stdout",
     "output_type": "stream",
     "text": [
      "(23861, 23, 1)\n",
      "(23861, 2)\n",
      "(10227, 23, 1)\n",
      "(10227, 2)\n"
     ]
    }
   ],
   "source": [
    "x_train = np.reshape(x_train, (x_train.shape[0], x_train.shape[1], 1))\n",
    "print(x_train.shape)\n",
    "print(y_train.shape)\n",
    "x_test = np.reshape(x_test, (x_test.shape[0], x_test.shape[1], 1))\n",
    "print(x_test.shape)\n",
    "print(y_test.shape)"
   ]
  },
  {
   "cell_type": "code",
   "execution_count": 20,
   "metadata": {},
   "outputs": [
    {
     "name": "stdout",
     "output_type": "stream",
     "text": [
      "_________________________________________________________________\n",
      "Layer (type)                 Output Shape              Param #   \n",
      "=================================================================\n",
      "input_2 (InputLayer)         (None, 23, 1)             0         \n",
      "_________________________________________________________________\n",
      "lstm_3 (LSTM)                (None, 23, 64)            16896     \n",
      "_________________________________________________________________\n",
      "lstm_4 (LSTM)                (None, 32)                12416     \n",
      "_________________________________________________________________\n",
      "dense_2 (Dense)              (None, 2)                 66        \n",
      "=================================================================\n",
      "Total params: 29,378\n",
      "Trainable params: 29,378\n",
      "Non-trainable params: 0\n",
      "_________________________________________________________________\n"
     ]
    }
   ],
   "source": [
    "from keras.models import Model\n",
    "from keras.layers import *\n",
    "\n",
    "input_shape=Input(shape=(x_train.shape[1],x_train.shape[2]))\n",
    "x=LSTM(64,input_shape=(x_train.shape[1],x_train.shape[2]), return_sequences=True)(input_shape)\n",
    "x=LSTM(32)(x)\n",
    "x=Dense(2, activation='linear')(x)\n",
    "model=Model(inputs=input_shape,outputs=x)\n",
    "model.summary()"
   ]
  },
  {
   "cell_type": "code",
   "execution_count": 21,
   "metadata": {},
   "outputs": [],
   "source": [
    "# compile the model\n",
    "model.compile(loss=\"mse\", optimizer=\"rmsprop\")\n",
    "from keras.utils import plot_model\n",
    "plot_model(model,\"model.png\",show_shapes=True)"
   ]
  },
  {
   "cell_type": "code",
   "execution_count": 22,
   "metadata": {},
   "outputs": [
    {
     "name": "stdout",
     "output_type": "stream",
     "text": [
      "Train on 11930 samples, validate on 11931 samples\n",
      "Epoch 1/10\n",
      "11930/11930 [==============================] - 10s 825us/step - loss: 0.9013 - val_loss: 0.9160\n",
      "Epoch 2/10\n",
      "11930/11930 [==============================] - 8s 698us/step - loss: 0.8492 - val_loss: 0.8877\n",
      "Epoch 3/10\n",
      "11930/11930 [==============================] - 9s 728us/step - loss: 0.8226 - val_loss: 0.8205\n",
      "Epoch 4/10\n",
      "11930/11930 [==============================] - 10s 815us/step - loss: 0.7928 - val_loss: 0.7888\n",
      "Epoch 5/10\n",
      "11930/11930 [==============================] - 9s 733us/step - loss: 0.7576 - val_loss: 0.9862\n",
      "Epoch 6/10\n",
      "11930/11930 [==============================] - 9s 719us/step - loss: 0.7391 - val_loss: 0.7223\n",
      "Epoch 7/10\n",
      "11930/11930 [==============================] - 9s 720us/step - loss: 0.7308 - val_loss: 0.7397\n",
      "Epoch 8/10\n",
      "11930/11930 [==============================] - 11s 959us/step - loss: 0.7187 - val_loss: 0.7366\n",
      "Epoch 9/10\n",
      "11930/11930 [==============================] - 9s 780us/step - loss: 0.6995 - val_loss: 0.7238\n",
      "Epoch 10/10\n",
      "11930/11930 [==============================] - 9s 767us/step - loss: 0.6900 - val_loss: 0.7040\n"
     ]
    },
    {
     "data": {
      "text/plain": [
       "<keras.callbacks.History at 0x7f0b13aa4f60>"
      ]
     },
     "execution_count": 22,
     "metadata": {},
     "output_type": "execute_result"
    }
   ],
   "source": [
    "\n",
    "#model.fit(x_train, y_train, batch_size=512, epochs=10, validation_split=0.5, verbose=1)\n"
   ]
  },
  {
   "cell_type": "code",
   "execution_count": 23,
   "metadata": {},
   "outputs": [
    {
     "name": "stdout",
     "output_type": "stream",
     "text": [
      "10227/10227 [==============================] - 3s 335us/step\n",
      "\n",
      "The mean squared error (MSE) on the test data set is 0.700 over 10227 test samples.\n"
     ]
    }
   ],
   "source": [
    "test_mse = model.evaluate(x_test, y_test, verbose=1)\n",
    "print ('\\nThe mean squared error (MSE) on the test data set is %.3f over %d test samples.' % (test_mse, len(y_test)))\n"
   ]
  },
  {
   "cell_type": "code",
   "execution_count": 24,
   "metadata": {},
   "outputs": [
    {
     "name": "stdout",
     "output_type": "stream",
     "text": [
      "10227\n",
      "(10227, 2)\n"
     ]
    }
   ],
   "source": [
    "predicted_values = model.predict(x_test)\n",
    "num_test_samples = len(predicted_values)\n",
    "print(num_test_samples)\n",
    "print(predicted_values.shape)\n"
   ]
  },
  {
   "cell_type": "code",
   "execution_count": 25,
   "metadata": {},
   "outputs": [
    {
     "name": "stdout",
     "output_type": "stream",
     "text": [
      "[-0.12682514 -0.2848638 ]\n",
      "[-0.43033734 -0.48974186]\n"
     ]
    }
   ],
   "source": [
    "print(predicted_values[1,:])\n",
    "print(y_test[1,:])"
   ]
  },
  {
   "cell_type": "code",
   "execution_count": 27,
   "metadata": {},
   "outputs": [
    {
     "data": {
      "image/png": "[encoded data removed]",
      "text/plain": [
       "<Figure size 432x288 with 1 Axes>"
      ]
     },
     "metadata": {},
     "output_type": "display_data"
    }
   ],
   "source": [
    "import matplotlib.pyplot as plt\n",
    "# plot the results\n",
    "fig = plt.figure()\n",
    "plt.plot(y_test[:100,1] + shifted_value,'b')\n",
    "plt.plot(predicted_values[:100,1] + shifted_value,'r')\n",
    "plt.xlabel('Hour')\n",
    "plt.ylabel('Electricity load (*1e5)')\n",
    "plt.show()\n",
    "fig.savefig('output_load_forecasting.jpg', bbox_inches='tight')"
   ]
  },
  {
   "cell_type": "code",
   "execution_count": null,
   "metadata": {},
   "outputs": [],
   "source": []
  }
 ],
 "metadata": {
  "kernelspec": {
   "display_name": "Python 3",
   "language": "python",
   "name": "python3"
  },
  "language_info": {
   "codemirror_mode": {
    "name": "ipython",
    "version": 3
   },
   "file_extension": ".py",
   "mimetype": "text/x-python",
   "name": "python",
   "nbconvert_exporter": "python",
   "pygments_lexer": "ipython3",
   "version": "3.6.5"
  }
 },
 "nbformat": 4,
 "nbformat_minor": 2
}
